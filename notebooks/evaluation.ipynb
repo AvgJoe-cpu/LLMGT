{
 "cells": [
  {
   "metadata": {
    "ExecuteTime": {
     "end_time": "2025-04-19T09:34:59.406754Z",
     "start_time": "2025-04-19T09:34:59.196803Z"
    }
   },
   "cell_type": "code",
   "source": [
    "from llmgt.evaluation import *\n",
    "import pandas as pd\n",
    "import matplotlib.pyplot as plt\n",
    "\n",
    "# Optional: Auto-reload modules if you're editing source code live\n",
    "%load_ext autoreload\n",
    "%autoreload 2\n"
   ],
   "id": "eab655da5d7ee54",
   "outputs": [],
   "execution_count": 1
  },
  {
   "metadata": {
    "ExecuteTime": {
     "end_time": "2025-04-19T09:35:00.368664Z",
     "start_time": "2025-04-19T09:35:00.244678Z"
    }
   },
   "cell_type": "code",
   "source": [
    "dirs = [\n",
    "    get_predictions_subdir(\"predictions_qwen-3_inst\")\n",
    "]\n",
    "\n",
    "df = build_big_df(dirs)\n",
    "print(df)\n"
   ],
   "id": "8262ca9b4b1305fb",
   "outputs": [
    {
     "name": "stdout",
     "output_type": "stream",
     "text": [
      "                                           source_file  temperature prompt  \\\n",
      "0    qwen-3_inst_T1_ndet_t09_tok512_s101_output_b_v...          0.9     v1   \n",
      "1    qwen-3_inst_T1_ndet_t09_tok512_s101_output_b_v...          0.9     v1   \n",
      "2    qwen-3_inst_T1_ndet_t09_tok512_s101_output_b_v...          0.9     v1   \n",
      "3    qwen-3_inst_T1_ndet_t09_tok512_s101_output_b_v...          0.9     v1   \n",
      "4    qwen-3_inst_T1_ndet_t09_tok512_s101_output_b_v...          0.9     v1   \n",
      "..                                                 ...          ...    ...   \n",
      "817  qwen-3_inst_T1_ndet_t07_tok512_s42_output_b_v3...          0.7     v3   \n",
      "818  qwen-3_inst_T1_ndet_t07_tok512_s42_output_b_v3...          0.7     v3   \n",
      "819  qwen-3_inst_T1_ndet_t07_tok512_s42_output_b_v3...          0.7     v3   \n",
      "820  qwen-3_inst_T1_ndet_t07_tok512_s42_output_b_v3...          0.7     v3   \n",
      "821  qwen-3_inst_T1_ndet_t07_tok512_s42_output_b_v3...          0.7     v3   \n",
      "\n",
      "                id gold_ne pred_nash  binary_acc  \n",
      "0    IDx-002-cfg02    [TR]        TL           0  \n",
      "1    IDx-002-cfg03    [BL]        TL           0  \n",
      "2    IDx-003-cfg03    [BL]        TL           0  \n",
      "3    IDx-003-cfg04    [BR]        TL           0  \n",
      "4    IDx-004-cfg01    [TL]        TL           1  \n",
      "..             ...     ...       ...         ...  \n",
      "817  IDx-024-cfg04    [BR]        TL           0  \n",
      "818  IDx-025-cfg01    [TL]        TL           1  \n",
      "819  IDx-025-cfg02    [TR]        TL           0  \n",
      "820  IDx-025-cfg03    [BL]        TL           0  \n",
      "821  IDx-025-cfg04    [BR]        TL           0  \n",
      "\n",
      "[822 rows x 7 columns]\n"
     ]
    }
   ],
   "execution_count": 2
  },
  {
   "metadata": {
    "ExecuteTime": {
     "end_time": "2025-04-18T21:08:10.910811Z",
     "start_time": "2025-04-18T21:08:10.898843Z"
    }
   },
   "cell_type": "code",
   "source": [
    "print(\"gold_ne types:\")\n",
    "print(df[\"gold_ne\"].map(type).value_counts())\n",
    "\n",
    "print(\"\\npred_nash types:\")\n",
    "print(df[\"pred_nash\"].map(type).value_counts())\n"
   ],
   "id": "9b95a05f12997a80",
   "outputs": [
    {
     "name": "stdout",
     "output_type": "stream",
     "text": [
      "gold_ne types:\n",
      "gold_ne\n",
      "<class 'numpy.ndarray'>    822\n",
      "Name: count, dtype: int64\n",
      "\n",
      "pred_nash types:\n",
      "pred_nash\n",
      "<class 'str'>    822\n",
      "Name: count, dtype: int64\n"
     ]
    }
   ],
   "execution_count": 33
  },
  {
   "metadata": {
    "ExecuteTime": {
     "end_time": "2025-04-18T21:06:17.677648Z",
     "start_time": "2025-04-18T21:06:16.090755Z"
    }
   },
   "cell_type": "code",
   "source": "from sklearn.metrics import confusion_matrix\n",
   "id": "a5dce3f1f96a4dde",
   "outputs": [],
   "execution_count": 28
  },
  {
   "metadata": {
    "ExecuteTime": {
     "end_time": "2025-04-18T21:10:25.777398Z",
     "start_time": "2025-04-18T21:10:25.761934Z"
    }
   },
   "cell_type": "code",
   "source": "df[\"pred_nash\"].value_counts()\n",
   "id": "a500b63a46572aaf",
   "outputs": [
    {
     "data": {
      "text/plain": [
       "pred_nash\n",
       "TL     603\n",
       "TB     217\n",
       "B,R      1\n",
       "T,L      1\n",
       "Name: count, dtype: int64"
      ]
     },
     "execution_count": 35,
     "metadata": {},
     "output_type": "execute_result"
    }
   ],
   "execution_count": 35
  },
  {
   "metadata": {
    "ExecuteTime": {
     "end_time": "2025-04-18T21:08:43.513495Z",
     "start_time": "2025-04-18T21:08:43.449555Z"
    }
   },
   "cell_type": "code",
   "source": [
    "from sklearn.metrics import confusion_matrix\n",
    "import seaborn as sns\n",
    "import matplotlib.pyplot as plt\n",
    "\n",
    "labels = [\"TL\", \"TR\", \"BL\", \"BR\"]\n",
    "\n",
    "# Flatten golds if needed\n",
    "df[\"gold_ne_flat\"] = df[\"gold_ne\"].apply(lambda x: x[0] if isinstance(x, np.ndarray) else x)\n",
    "\n",
    "golds = df[\"gold_ne_flat\"]\n",
    "preds = df[\"pred_nash\"]\n",
    "\n",
    "cm = confusion_matrix(golds, preds, labels=labels)\n",
    "cm_normalized = cm.astype(float) / cm.sum(axis=1, keepdims=True)\n",
    "\n",
    "plt.figure(figsize=(6, 5))\n",
    "sns.heatmap(cm_normalized, annot=cm, fmt=\"d\", cmap=\"Blues\",\n",
    "            xticklabels=labels, yticklabels=labels)\n",
    "plt.xlabel(\"Predicted\")\n",
    "plt.ylabel(\"Gold (True Label)\")\n",
    "plt.title(\"Confusion Matrix (4-Class Prediction)\")\n",
    "plt.tight_layout()\n",
    "plt.show()\n"
   ],
   "id": "1d910b6f5cc91a32",
   "outputs": [
    {
     "data": {
      "text/plain": [
       "<Figure size 600x500 with 2 Axes>"
      ],
      "image/png": "[encoded data removed]"
     },
     "metadata": {},
     "output_type": "display_data"
    }
   ],
   "execution_count": 34
  },
  {
   "metadata": {
    "ExecuteTime": {
     "end_time": "2025-04-18T20:51:18.407899Z",
     "start_time": "2025-04-18T20:51:18.392889Z"
    }
   },
   "cell_type": "code",
   "source": [
    "# Overall accuracy\n",
    "overall_acc = df[\"binary_acc\"].mean()\n",
    "print(f\"Overall accuracy: {overall_acc:.3f}\")\n",
    "\n",
    "# Accuracy by prompt version\n",
    "df.groupby(\"prompt\")[\"binary_acc\"].mean().sort_values(ascending=False)\n"
   ],
   "id": "a3a5569b7cd2747a",
   "outputs": [
    {
     "name": "stdout",
     "output_type": "stream",
     "text": [
      "Overall accuracy: 0.198\n"
     ]
    },
    {
     "data": {
      "text/plain": [
       "prompt\n",
       "v1    0.256198\n",
       "v3    0.241279\n",
       "v2    0.137255\n",
       "Name: binary_acc, dtype: float64"
      ]
     },
     "execution_count": 4,
     "metadata": {},
     "output_type": "execute_result"
    }
   ],
   "execution_count": 4
  },
  {
   "metadata": {
    "ExecuteTime": {
     "end_time": "2025-04-18T20:54:36.652817Z",
     "start_time": "2025-04-18T20:54:36.638061Z"
    }
   },
   "cell_type": "code",
   "source": [
    "from statsmodels.stats.contingency_tables import cochrans_q\n",
    "mat = (\n",
    "    df[df[\"prompt\"] == \"v1\"]\n",
    "    .pivot(index=\"id\", columns=\"temperature\", values=\"binary_acc\")\n",
    "    .dropna()\n",
    ")\n",
    "\n",
    "result = cochrans_q(mat)\n",
    "print(f\"Cochran’s Q = {result.statistic:.2f},  p = {result.pvalue:.4g}\")\n",
    "\n"
   ],
   "id": "5791cb212e1c1d3b",
   "outputs": [
    {
     "name": "stdout",
     "output_type": "stream",
     "text": [
      "Cochran’s Q = 1.00,  p = 0.3173\n"
     ]
    }
   ],
   "execution_count": 10
  },
  {
   "metadata": {
    "ExecuteTime": {
     "end_time": "2025-04-18T20:55:10.168834Z",
     "start_time": "2025-04-18T20:55:10.115677Z"
    }
   },
   "cell_type": "code",
   "source": [
    "(df[df[\"prompt\"] == \"v1\"]\n",
    " .groupby(\"temperature\")[\"binary_acc\"]\n",
    " .mean()\n",
    " .plot(kind=\"bar\", title=\"Mean Accuracy by Temperature\"))\n"
   ],
   "id": "11f2d87513f4d190",
   "outputs": [
    {
     "data": {
      "text/plain": [
       "<Axes: title={'center': 'Mean Accuracy by Temperature'}, xlabel='temperature'>"
      ]
     },
     "execution_count": 11,
     "metadata": {},
     "output_type": "execute_result"
    },
    {
     "data": {
      "text/plain": [
       "<Figure size 640x480 with 1 Axes>"
      ],
      "image/png": "[encoded data removed]"
     },
     "metadata": {},
     "output_type": "display_data"
    }
   ],
   "execution_count": 11
  },
  {
   "metadata": {
    "ExecuteTime": {
     "end_time": "2025-04-18T20:59:18.291802Z",
     "start_time": "2025-04-18T20:59:18.275109Z"
    }
   },
   "cell_type": "code",
   "source": [
    "# Sanity check: how many examples per group?\n",
    "df.groupby([\"prompt\", \"temperature\"]).size()\n",
    "\n",
    "df.groupby([\"prompt\", \"temperature\", \"binary_acc\"]).size().unstack(fill_value=0)\n"
   ],
   "id": "6df400ba751601ba",
   "outputs": [
    {
     "data": {
      "text/plain": [
       "binary_acc           0   1\n",
       "prompt temperature        \n",
       "v1     0.9          45  16\n",
       "       1.3          45  15\n",
       "v2     0.7          84  12\n",
       "       0.9          80  11\n",
       "       1.1          74  14\n",
       "       1.3          70  12\n",
       "v3     0.7          69  22\n",
       "       0.9          67  21\n",
       "       1.1          63  22\n",
       "       1.3          62  18"
      ],
      "text/html": [
       "<div>\n",
       "<style scoped>\n",
       "    .dataframe tbody tr th:only-of-type {\n",
       "        vertical-align: middle;\n",
       "    }\n",
       "\n",
       "    .dataframe tbody tr th {\n",
       "        vertical-align: top;\n",
       "    }\n",
       "\n",
       "    .dataframe thead th {\n",
       "        text-align: right;\n",
       "    }\n",
       "</style>\n",
       "<table border=\"1\" class=\"dataframe\">\n",
       "  <thead>\n",
       "    <tr style=\"text-align: right;\">\n",
       "      <th></th>\n",
       "      <th>binary_acc</th>\n",
       "      <th>0</th>\n",
       "      <th>1</th>\n",
       "    </tr>\n",
       "    <tr>\n",
       "      <th>prompt</th>\n",
       "      <th>temperature</th>\n",
       "      <th></th>\n",
       "      <th></th>\n",
       "    </tr>\n",
       "  </thead>\n",
       "  <tbody>\n",
       "    <tr>\n",
       "      <th rowspan=\"2\" valign=\"top\">v1</th>\n",
       "      <th>0.9</th>\n",
       "      <td>45</td>\n",
       "      <td>16</td>\n",
       "    </tr>\n",
       "    <tr>\n",
       "      <th>1.3</th>\n",
       "      <td>45</td>\n",
       "      <td>15</td>\n",
       "    </tr>\n",
       "    <tr>\n",
       "      <th rowspan=\"4\" valign=\"top\">v2</th>\n",
       "      <th>0.7</th>\n",
       "      <td>84</td>\n",
       "      <td>12</td>\n",
       "    </tr>\n",
       "    <tr>\n",
       "      <th>0.9</th>\n",
       "      <td>80</td>\n",
       "      <td>11</td>\n",
       "    </tr>\n",
       "    <tr>\n",
       "      <th>1.1</th>\n",
       "      <td>74</td>\n",
       "      <td>14</td>\n",
       "    </tr>\n",
       "    <tr>\n",
       "      <th>1.3</th>\n",
       "      <td>70</td>\n",
       "      <td>12</td>\n",
       "    </tr>\n",
       "    <tr>\n",
       "      <th rowspan=\"4\" valign=\"top\">v3</th>\n",
       "      <th>0.7</th>\n",
       "      <td>69</td>\n",
       "      <td>22</td>\n",
       "    </tr>\n",
       "    <tr>\n",
       "      <th>0.9</th>\n",
       "      <td>67</td>\n",
       "      <td>21</td>\n",
       "    </tr>\n",
       "    <tr>\n",
       "      <th>1.1</th>\n",
       "      <td>63</td>\n",
       "      <td>22</td>\n",
       "    </tr>\n",
       "    <tr>\n",
       "      <th>1.3</th>\n",
       "      <td>62</td>\n",
       "      <td>18</td>\n",
       "    </tr>\n",
       "  </tbody>\n",
       "</table>\n",
       "</div>"
      ]
     },
     "execution_count": 18,
     "metadata": {},
     "output_type": "execute_result"
    }
   ],
   "execution_count": 18
  },
  {
   "metadata": {
    "ExecuteTime": {
     "end_time": "2025-04-18T21:01:13.546661Z",
     "start_time": "2025-04-18T21:01:13.487837Z"
    }
   },
   "cell_type": "code",
   "source": [
    "glm = smf.glm(\n",
    "    \"binary_acc ~ C(prompt) * C(temperature)\",\n",
    "    data=df,\n",
    "    family=sm.families.Binomial()\n",
    ").fit()\n",
    "\n",
    "print(glm.summary())\n",
    "glm = smf.glm(\n",
    "    \"binary_acc ~ C(prompt) * C(temperature)\",\n",
    "    data=df,\n",
    "    family=sm.families.Binomial()\n",
    ").fit()\n",
    "\n",
    "print(glm.summary())\n"
   ],
   "id": "8b6fffcf5437ce13",
   "outputs": [
    {
     "name": "stdout",
     "output_type": "stream",
     "text": [
      "                 Generalized Linear Model Regression Results                  \n",
      "==============================================================================\n",
      "Dep. Variable:             binary_acc   No. Observations:                  822\n",
      "Model:                            GLM   Df Residuals:                      812\n",
      "Model Family:                Binomial   Df Model:                            9\n",
      "Link Function:                  Logit   Scale:                          1.0000\n",
      "Method:                          IRLS   Log-Likelihood:                -401.22\n",
      "Date:                Fri, 18 Apr 2025   Deviance:                       802.44\n",
      "Time:                        23:01:13   Pearson chi2:                     817.\n",
      "No. Iterations:                   100   Pseudo R-squ. (CS):            0.01967\n",
      "Covariance Type:            nonrobust                                         \n",
      "=========================================================================================================\n",
      "                                            coef    std err          z      P>|z|      [0.025      0.975]\n",
      "---------------------------------------------------------------------------------------------------------\n",
      "Intercept                                -1.0486      0.195     -5.379      0.000      -1.431      -0.667\n",
      "C(prompt)[T.v2]                          -0.8971      0.263     -3.411      0.001      -1.413      -0.382\n",
      "C(prompt)[T.v3]                          -0.0810      0.236     -0.343      0.732      -0.544       0.382\n",
      "C(temperature)[T.0.9]                     0.0183      0.254      0.072      0.943      -0.480       0.516\n",
      "C(temperature)[T.1.1]                     0.1353      0.188      0.718      0.473      -0.234       0.505\n",
      "C(temperature)[T.1.3]                    -0.0333      0.253     -0.132      0.895      -0.530       0.463\n",
      "C(prompt)[T.v2]:C(temperature)[T.0.9]    -0.0504      0.429     -0.117      0.907      -0.892       0.791\n",
      "C(prompt)[T.v3]:C(temperature)[T.0.9]    -0.0431      0.357     -0.121      0.904      -0.743       0.657\n",
      "C(prompt)[T.v2]:C(temperature)[T.1.1]     0.1903      0.321      0.594      0.553      -0.438       0.819\n",
      "C(prompt)[T.v3]:C(temperature)[T.1.1]    -0.0550      0.274     -0.201      0.841      -0.591       0.481\n",
      "C(prompt)[T.v2]:C(temperature)[T.1.3]     0.2159      0.411      0.525      0.600      -0.590       1.022\n",
      "C(prompt)[T.v3]:C(temperature)[T.1.3]    -0.0670      0.365     -0.184      0.854      -0.782       0.648\n",
      "=========================================================================================================\n",
      "                 Generalized Linear Model Regression Results                  \n",
      "==============================================================================\n",
      "Dep. Variable:             binary_acc   No. Observations:                  822\n",
      "Model:                            GLM   Df Residuals:                      812\n",
      "Model Family:                Binomial   Df Model:                            9\n",
      "Link Function:                  Logit   Scale:                          1.0000\n",
      "Method:                          IRLS   Log-Likelihood:                -401.22\n",
      "Date:                Fri, 18 Apr 2025   Deviance:                       802.44\n",
      "Time:                        23:01:13   Pearson chi2:                     817.\n",
      "No. Iterations:                   100   Pseudo R-squ. (CS):            0.01967\n",
      "Covariance Type:            nonrobust                                         \n",
      "=========================================================================================================\n",
      "                                            coef    std err          z      P>|z|      [0.025      0.975]\n",
      "---------------------------------------------------------------------------------------------------------\n",
      "Intercept                                -1.0486      0.195     -5.379      0.000      -1.431      -0.667\n",
      "C(prompt)[T.v2]                          -0.8971      0.263     -3.411      0.001      -1.413      -0.382\n",
      "C(prompt)[T.v3]                          -0.0810      0.236     -0.343      0.732      -0.544       0.382\n",
      "C(temperature)[T.0.9]                     0.0183      0.254      0.072      0.943      -0.480       0.516\n",
      "C(temperature)[T.1.1]                     0.1353      0.188      0.718      0.473      -0.234       0.505\n",
      "C(temperature)[T.1.3]                    -0.0333      0.253     -0.132      0.895      -0.530       0.463\n",
      "C(prompt)[T.v2]:C(temperature)[T.0.9]    -0.0504      0.429     -0.117      0.907      -0.892       0.791\n",
      "C(prompt)[T.v3]:C(temperature)[T.0.9]    -0.0431      0.357     -0.121      0.904      -0.743       0.657\n",
      "C(prompt)[T.v2]:C(temperature)[T.1.1]     0.1903      0.321      0.594      0.553      -0.438       0.819\n",
      "C(prompt)[T.v3]:C(temperature)[T.1.1]    -0.0550      0.274     -0.201      0.841      -0.591       0.481\n",
      "C(prompt)[T.v2]:C(temperature)[T.1.3]     0.2159      0.411      0.525      0.600      -0.590       1.022\n",
      "C(prompt)[T.v3]:C(temperature)[T.1.3]    -0.0670      0.365     -0.184      0.854      -0.782       0.648\n",
      "=========================================================================================================\n"
     ]
    }
   ],
   "execution_count": 20
  },
  {
   "metadata": {
    "ExecuteTime": {
     "end_time": "2025-04-18T21:02:07.405198Z",
     "start_time": "2025-04-18T21:02:07.377912Z"
    }
   },
   "cell_type": "code",
   "source": [
    "predict_df = df[[\"prompt\", \"temperature\"]].drop_duplicates()\n",
    "predict_df[\"predicted_acc\"] = glm.predict(predict_df)\n",
    "predict_df\n",
    "\n",
    "import seaborn as sns\n",
    "import matplotlib.pyplot as plt\n",
    "\n",
    "sns.barplot(data=predict_df, x=\"temperature\", y=\"predicted_acc\", hue=\"prompt\")\n",
    "plt.title(\"Predicted Accuracy by Prompt × Temperature\")\n",
    "plt.ylabel(\"Predicted Accuracy\")\n",
    "plt.show()\n"
   ],
   "id": "8e1ceeb296820f95",
   "outputs": [
    {
     "ename": "ModuleNotFoundError",
     "evalue": "No module named 'seaborn'",
     "output_type": "error",
     "traceback": [
      "\u001B[31m---------------------------------------------------------------------------\u001B[39m",
      "\u001B[31mModuleNotFoundError\u001B[39m                       Traceback (most recent call last)",
      "\u001B[36mCell\u001B[39m\u001B[36m \u001B[39m\u001B[32mIn[21]\u001B[39m\u001B[32m, line 5\u001B[39m\n\u001B[32m      2\u001B[39m predict_df[\u001B[33m\"\u001B[39m\u001B[33mpredicted_acc\u001B[39m\u001B[33m\"\u001B[39m] = glm.predict(predict_df)\n\u001B[32m      3\u001B[39m predict_df\n\u001B[32m----> \u001B[39m\u001B[32m5\u001B[39m \u001B[38;5;28;01mimport\u001B[39;00m\u001B[38;5;250m \u001B[39m\u001B[34;01mseaborn\u001B[39;00m\u001B[38;5;250m \u001B[39m\u001B[38;5;28;01mas\u001B[39;00m\u001B[38;5;250m \u001B[39m\u001B[34;01msns\u001B[39;00m\n\u001B[32m      6\u001B[39m \u001B[38;5;28;01mimport\u001B[39;00m\u001B[38;5;250m \u001B[39m\u001B[34;01mmatplotlib\u001B[39;00m\u001B[34;01m.\u001B[39;00m\u001B[34;01mpyplot\u001B[39;00m\u001B[38;5;250m \u001B[39m\u001B[38;5;28;01mas\u001B[39;00m\u001B[38;5;250m \u001B[39m\u001B[34;01mplt\u001B[39;00m\n\u001B[32m      8\u001B[39m sns.barplot(data=predict_df, x=\u001B[33m\"\u001B[39m\u001B[33mtemperature\u001B[39m\u001B[33m\"\u001B[39m, y=\u001B[33m\"\u001B[39m\u001B[33mpredicted_acc\u001B[39m\u001B[33m\"\u001B[39m, hue=\u001B[33m\"\u001B[39m\u001B[33mprompt\u001B[39m\u001B[33m\"\u001B[39m)\n",
      "\u001B[31mModuleNotFoundError\u001B[39m: No module named 'seaborn'"
     ]
    }
   ],
   "execution_count": 21
  },
  {
   "metadata": {
    "ExecuteTime": {
     "end_time": "2025-04-18T20:57:12.358097Z",
     "start_time": "2025-04-18T20:57:12.314569Z"
    }
   },
   "cell_type": "code",
   "source": [
    "import statsmodels.formula.api as smf\n",
    "import statsmodels.api as sm\n",
    "import numpy as np\n",
    "glm = smf.glm(\n",
    "    \"binary_acc ~ C(prompt) * C(temperature)\",\n",
    "    data=df,\n",
    "    family=sm.families.Binomial()\n",
    ").fit(cov_type=\"cluster\", cov_kwds={\"groups\": df[\"id\"]})\n",
    "\n",
    "\n",
    "print(glm.summary())\n",
    "print(\"Odds‑ratios:\\n\", glm.params.apply(lambda b: f\"{np.exp(b):.2f}\"))\n"
   ],
   "id": "4a9203b1416d32ac",
   "outputs": [
    {
     "name": "stdout",
     "output_type": "stream",
     "text": [
      "                 Generalized Linear Model Regression Results                  \n",
      "==============================================================================\n",
      "Dep. Variable:             binary_acc   No. Observations:                  822\n",
      "Model:                            GLM   Df Residuals:                      812\n",
      "Model Family:                Binomial   Df Model:                            9\n",
      "Link Function:                  Logit   Scale:                          1.0000\n",
      "Method:                          IRLS   Log-Likelihood:                -401.22\n",
      "Date:                Fri, 18 Apr 2025   Deviance:                       802.44\n",
      "Time:                        22:57:12   Pearson chi2:                     817.\n",
      "No. Iterations:                   100   Pseudo R-squ. (CS):            0.01967\n",
      "Covariance Type:              cluster                                         \n",
      "=========================================================================================================\n",
      "                                            coef    std err          z      P>|z|      [0.025      0.975]\n",
      "---------------------------------------------------------------------------------------------------------\n",
      "Intercept                                -1.0486   2.42e+05  -4.33e-06      1.000   -4.75e+05    4.75e+05\n",
      "C(prompt)[T.v2]                          -0.8971   3.26e+05  -2.75e-06      1.000   -6.39e+05    6.39e+05\n",
      "C(prompt)[T.v3]                          -0.0810        nan        nan        nan         nan         nan\n",
      "C(temperature)[T.0.9]                     0.0183   5.83e+05   3.13e-08      1.000   -1.14e+06    1.14e+06\n",
      "C(temperature)[T.1.1]                     0.1353   7.23e+05   1.87e-07      1.000   -1.42e+06    1.42e+06\n",
      "C(temperature)[T.1.3]                    -0.0333   5.43e+05  -6.14e-08      1.000   -1.06e+06    1.06e+06\n",
      "C(prompt)[T.v2]:C(temperature)[T.0.9]    -0.0504   3.49e+05  -1.45e-07      1.000   -6.84e+05    6.84e+05\n",
      "C(prompt)[T.v3]:C(temperature)[T.0.9]    -0.0431   4.38e+05  -9.83e-08      1.000   -8.59e+05    8.59e+05\n",
      "C(prompt)[T.v2]:C(temperature)[T.1.1]     0.1903   4.05e+05    4.7e-07      1.000   -7.93e+05    7.93e+05\n",
      "C(prompt)[T.v3]:C(temperature)[T.1.1]    -0.0550    7.7e+05  -7.15e-08      1.000   -1.51e+06    1.51e+06\n",
      "C(prompt)[T.v2]:C(temperature)[T.1.3]     0.2159   3.31e+05   6.53e-07      1.000   -6.48e+05    6.48e+05\n",
      "C(prompt)[T.v3]:C(temperature)[T.1.3]    -0.0670   5.83e+05  -1.15e-07      1.000   -1.14e+06    1.14e+06\n",
      "=========================================================================================================\n",
      "Odds‑ratios:\n",
      " Intercept                                0.35\n",
      "C(prompt)[T.v2]                          0.41\n",
      "C(prompt)[T.v3]                          0.92\n",
      "C(temperature)[T.0.9]                    1.02\n",
      "C(temperature)[T.1.1]                    1.14\n",
      "C(temperature)[T.1.3]                    0.97\n",
      "C(prompt)[T.v2]:C(temperature)[T.0.9]    0.95\n",
      "C(prompt)[T.v3]:C(temperature)[T.0.9]    0.96\n",
      "C(prompt)[T.v2]:C(temperature)[T.1.1]    1.21\n",
      "C(prompt)[T.v3]:C(temperature)[T.1.1]    0.95\n",
      "C(prompt)[T.v2]:C(temperature)[T.1.3]    1.24\n",
      "C(prompt)[T.v3]:C(temperature)[T.1.3]    0.94\n",
      "dtype: object\n"
     ]
    }
   ],
   "execution_count": 16
  },
  {
   "metadata": {
    "ExecuteTime": {
     "end_time": "2025-04-18T20:55:51.627839Z",
     "start_time": "2025-04-18T20:55:51.603249Z"
    }
   },
   "cell_type": "code",
   "source": [
    "mixed = smf.mixedlm(\n",
    "    \"correct ~ C(prompt) * C(temperature)\",\n",
    "    data=big_df,\n",
    "    groups=\"item_id\",\n",
    "    family=sm.families.Binomial()    # GLMM support now in statsmodels ≥ v0.14\n",
    ").fit(method=\"bfgs\")\n",
    "\n",
    "mixed.summary()\n"
   ],
   "id": "3ec5472b8ba75f19",
   "outputs": [
    {
     "ename": "NameError",
     "evalue": "name 'smf' is not defined",
     "output_type": "error",
     "traceback": [
      "\u001B[31m---------------------------------------------------------------------------\u001B[39m",
      "\u001B[31mNameError\u001B[39m                                 Traceback (most recent call last)",
      "\u001B[36mCell\u001B[39m\u001B[36m \u001B[39m\u001B[32mIn[12]\u001B[39m\u001B[32m, line 1\u001B[39m\n\u001B[32m----> \u001B[39m\u001B[32m1\u001B[39m mixed = \u001B[43msmf\u001B[49m.mixedlm(\n\u001B[32m      2\u001B[39m     \u001B[33m\"\u001B[39m\u001B[33mcorrect ~ C(prompt) * C(temperature)\u001B[39m\u001B[33m\"\u001B[39m,\n\u001B[32m      3\u001B[39m     data=big_df,\n\u001B[32m      4\u001B[39m     groups=\u001B[33m\"\u001B[39m\u001B[33mitem_id\u001B[39m\u001B[33m\"\u001B[39m,\n\u001B[32m      5\u001B[39m     family=sm.families.Binomial()    \u001B[38;5;66;03m# GLMM support now in statsmodels ≥ v0.14\u001B[39;00m\n\u001B[32m      6\u001B[39m ).fit(method=\u001B[33m\"\u001B[39m\u001B[33mbfgs\u001B[39m\u001B[33m\"\u001B[39m)\n\u001B[32m      8\u001B[39m mixed.summary()\n",
      "\u001B[31mNameError\u001B[39m: name 'smf' is not defined"
     ]
    }
   ],
   "execution_count": 12
  },
  {
   "metadata": {},
   "cell_type": "code",
   "outputs": [],
   "execution_count": null,
   "source": [
    "from statsmodels.stats.contingency_tables import mcnemar\n",
    "from statsmodels.stats.multitest import multipletests\n",
    "\n",
    "def mcnemar_pair(g, p1, p2):\n",
    "    tbl = (\n",
    "        g[g[\"prompt\"] == p1].set_index(\"item_id\")[\"correct\"]\n",
    "          .to_frame(\"a\")\n",
    "          .join(g[g[\"prompt\"] == p2].set_index(\"item_id\")[\"correct\"]\n",
    "          .to_frame(\"b\"))\n",
    "          .dropna()\n",
    "          .astype(int)\n",
    "    )\n",
    "    b = ((tbl[\"a\"] == 1) & (tbl[\"b\"] == 0)).sum()\n",
    "    c = ((tbl[\"a\"] == 0) & (tbl[\"b\"] == 1)).sum()\n",
    "    return mcnemar([[0, b], [c, 0]], exact=False, correction=True)\n",
    "\n",
    "records = []\n",
    "for T, g in big_df.groupby(\"temperature\"):\n",
    "    for p1, p2 in [(\"v1\",\"v2\"), (\"v1\",\"v3\"), (\"v2\",\"v3\")]:\n",
    "        res = mcnemar_pair(g, p1, p2)\n",
    "        records.append({\"T\":T, \"pair\":f\"{p1} vs {p2}\",\n",
    "                        \"chi2\":res.statistic, \"p\":res.pvalue})\n",
    "\n",
    "df_post = pd.DataFrame(records)\n",
    "df_post[\"p_adj\"] = df_post.groupby(\"T\")[\"p\"].transform(\n",
    "    lambda p: multipletests(p, method=\"holm\")[1])\n",
    "print(df_post)\n"
   ],
   "id": "855754e82c921e07"
  },
  {
   "metadata": {},
   "cell_type": "code",
   "outputs": [],
   "execution_count": null,
   "source": [
    "from statsmodels.stats.proportion import proportion_confint\n",
    "\n",
    "grp = (big_df.groupby([\"prompt\", \"temperature\"])\n",
    "               [\"correct\"].agg([\"sum\", \"count\"]))\n",
    "\n",
    "grp[\"mean\"] = grp[\"sum\"] / grp[\"count\"]\n",
    "grp[[\"ci_low\", \"ci_high\"]] = grp.apply(\n",
    "    lambda row: proportion_confint(row[\"sum\"], row[\"count\"], method=\"wilson\"),\n",
    "    axis=1, result_type=\"expand\")\n",
    "print(grp.round(3))\n"
   ],
   "id": "29229a4999f3c478"
  }
 ],
 "metadata": {
  "kernelspec": {
   "display_name": "Python 3",
   "language": "python",
   "name": "python3"
  },
  "language_info": {
   "codemirror_mode": {
    "name": "ipython",
    "version": 2
   },
   "file_extension": ".py",
   "mimetype": "text/x-python",
   "name": "python",
   "nbconvert_exporter": "python",
   "pygments_lexer": "ipython2",
   "version": "2.7.6"
  }
 },
 "nbformat": 4,
 "nbformat_minor": 5
}
